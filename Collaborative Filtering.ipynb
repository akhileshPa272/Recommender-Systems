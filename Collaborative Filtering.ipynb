{
 "cells": [
  {
   "cell_type": "code",
   "execution_count": 1,
   "metadata": {
    "collapsed": true
   },
   "outputs": [],
   "source": [
    "import numpy as np\n",
    "import pandas as pd\n",
    "import copy\n",
    "import math"
   ]
  },
  {
   "cell_type": "code",
   "execution_count": 2,
   "metadata": {
    "collapsed": true
   },
   "outputs": [],
   "source": [
    "# Train-Test-Split to separate the test values from the values to be trained\n",
    "def split(ratio):\n",
    "    rating_df_columns = [\"UserId\", \"MovieId\", \"Rating\", \"TimeStamp\"]\n",
    "    rating_df = pd.read_table(\"data_set/ratings.dat\", sep=\"::\", engine = \"python\", names=rating_df_columns)\n",
    "    rating_df.drop('TimeStamp', axis=1, inplace=True)\n",
    "    #print(rating_df.shape)\n",
    "\n",
    "    #rating_df.drop(index= range(100000,1000209), inplace=True)\n",
    "    \n",
    "    rating_df.drop(rating_df.index[1000000:1000209], inplace = True) #droping the rows from 1000000 to 1000209\n",
    "    #print(\"rating_df\", rating_df.shape)\n",
    "    \n",
    "    train_rating_df = rating_df.sample(frac = ratio, random_state=201) #sampling the training df according to the fraction\n",
    "    test_rating_df = rating_df.drop(train_rating_df.index) #using the remaining elements to make the test df.\n",
    "\n",
    "    #print(\"train_rating_df\", train_rating_df.shape)\n",
    "    #print(\"test_rating_df\", test_rating_df.shape)\n",
    "    \n",
    "    train_users = max(train_rating_df[\"UserId\"]) #getting the max value of userID\n",
    "    train_movies = max(train_rating_df[\"MovieId\"]) #getting the max value of MovieId\n",
    "\n",
    "    test_users = max(test_rating_df[\"UserId\"])\n",
    "    test_movies = max(test_rating_df[\"MovieId\"])\n",
    "\n",
    "    assert train_users == test_users\n",
    "    users = train_users\n",
    "    movies = max(train_movies, test_movies)\n",
    "\n",
    "    #pivoting the df to have UserID as the index and all the movieIDs to have individual columns\n",
    "    train_rating_df = train_rating_df.pivot(index = 'UserId', columns='MovieId', values='Rating').fillna(0)\n",
    "    test_rating_df = test_rating_df.pivot(index = 'UserId', columns='MovieId', values='Rating').fillna(0)\n",
    "    \n",
    "    #print(train_rating_df.head())\n",
    "    \n",
    "    #print(\"train_rating_df\", train_rating_df.shape)\n",
    "    #print(\"test_rating_df\", test_rating_df.shape)\n",
    "  \n",
    "    zero_mat = np.zeros(users)\n",
    "    #adding the columns to both the dfs if a particular movie is not found.\n",
    "    for i in range(1, movies + 1):\n",
    "        print(i, end = \"\\r\")\n",
    "        if i not in train_rating_df.columns:   \n",
    "            zero_df = pd.DataFrame(zero_mat,columns=[i],index=range(1, users + 1))\n",
    "            train_rating_df = train_rating_df.join(zero_df)\n",
    "        if i not in test_rating_df.columns:\n",
    "            zero_df = pd.DataFrame(zero_mat,columns=[i],index=range(1, users + 1))\n",
    "            #print(\"zero_df\",zero_df.shape)\n",
    "            test_rating_df = test_rating_df.join(zero_df)\n",
    "            #print(\"df shape\", test_rating_df[i].shape)\n",
    "            \n",
    "    zero_mat = np.zeros(movies)\n",
    "    #print(\"zero_mat\",zero_mat.shape)\n",
    "    \n",
    "    #adding rows for both the dfs if any userId is not present.\n",
    "    for i in range(1,users+1):\n",
    "        print(i,end = \"\\r\")\n",
    "        if i not in train_rating_df.index:\n",
    "            #print(\"train\", i)\n",
    "            zero_df = pd.DataFrame(zero_mat, index = [i], columns = range(1,movies+1))\n",
    "            print(zero_df.shape)\n",
    "            train_rating_df = train_rating_df.join(zero_df)\n",
    "        if i not in test_rating_df.index:\n",
    "            #print(\"test\",i)\n",
    "            #zero_df = pd.DataFrame(zero_mat, index = [i], columns = range(1,movies+1))\n",
    "            #print(zero_df.shape)\n",
    "            test_rating_df.loc[i] = zero_mat\n",
    "            print(test_rating_df.shape)\n",
    "        \n",
    "    \n",
    "    #print(\"train_rating_df\", train_rating_df.shape)\n",
    "    #print(\"test_rating_df\", test_rating_df.shape)\n",
    "    \n",
    "    train_rating_df = train_rating_df[:]\n",
    "    test_rating_df = test_rating_df[:]\n",
    "    #print(\"train_rating_df\", train_rating_df.shape)\n",
    "    #print(\"test_rating_df\", test_rating_df.shape)\n",
    "    \n",
    "    train_rating_matrix = np.asarray(train_rating_df) #Convert dataframe to numpy array\n",
    "    test_rating_matrix = np.asarray(test_rating_df) #Convert dataframe to numpy array.\n",
    "    #print(\"train_rating_matrix\", train_rating_matrix.shape)\n",
    "    #print(\"test_rating_matrix\", test_rating_matrix.shape)\n",
    "    assert train_rating_matrix.shape == test_rating_matrix.shape\n",
    "\n",
    "    return train_rating_matrix, test_rating_matrix"
   ]
  },
  {
   "cell_type": "code",
   "execution_count": 3,
   "metadata": {},
   "outputs": [
    {
     "name": "stdout",
     "output_type": "stream",
     "text": [
      "(6039, 3952)\n",
      "(6040, 3952)\n",
      "6040\r"
     ]
    }
   ],
   "source": [
    "train_rating_matrix, test_rating_matrix = split(0.8)"
   ]
  },
  {
   "cell_type": "code",
   "execution_count": 6,
   "metadata": {
    "collapsed": true
   },
   "outputs": [],
   "source": [
    "### Mean center\n",
    "#A is the training matrix, B is the test matrix\n",
    "def mean_center(A, B):\n",
    "    assert A.shape == B.shape\n",
    "    S = A + B # S is the complete matrix\n",
    "    \n",
    "    A_centered = np.zeros(A.shape)\n",
    "    B_centered = np.zeros(A.shape)\n",
    "    \n",
    "    for row in range(S.shape[0]):\n",
    "        ratings_sum = S[row].sum() #total sum of rating of a particular user\n",
    "        movies_rated = (S[row] > 0).sum() #number of mvies rated by a user\n",
    "        mean = ratings_sum/movies_rated #mean movie rating by a user\n",
    "        for i in A[row].nonzero():\n",
    "            A_centered[row][i] = S[row][i] - mean #calculating the central value of the A and B\n",
    "        for j in B[row].nonzero():\n",
    "            B_centered[row][j] = S[row][j] - mean\n",
    "    return A_centered, B_centered"
   ]
  },
  {
   "cell_type": "code",
   "execution_count": 7,
   "metadata": {
    "collapsed": true
   },
   "outputs": [],
   "source": [
    "train_rating_matrix_centered, test_rating_matrix_centered = mean_center(train_rating_matrix, test_rating_matrix)"
   ]
  },
  {
   "cell_type": "code",
   "execution_count": 8,
   "metadata": {
    "collapsed": true
   },
   "outputs": [],
   "source": [
    "#### Collabarative filtering\n",
    "#### Find k most similar users who have rated that movie.\n",
    "\n",
    "### Find similarity matrix based on row\n",
    "#The similarity matrix will be a user x user matrix\n",
    "def cosine_similarity(A):\n",
    "    similarity = np.zeros((A.shape[0], A.shape[0])) \n",
    "    for i in range(A.shape[0]):\n",
    "        mod1 = np.sqrt(np.dot(A[i],A[i])) #magnitude of the row vector\n",
    "        for j in range(i+1, A.shape[0]):\n",
    "            similarity_ij = np.dot(A[i], A[j]) #dot product of any pair of row vectors\n",
    "            mod2 = np.sqrt(np.dot(A[j], A[j])) #magnitude of the row vector\n",
    "            if mod2 == 0:\n",
    "                similarity[i][j] = similarity[j][i] = 0\n",
    "            else:\n",
    "                similarity_ij /= (mod1 * mod2) #cosine similarity\n",
    "                similarity[i][j] = similarity[j][i] = similarity_ij \n",
    "        print(i, end = \"\\r\")\n",
    "    return similarity"
   ]
  },
  {
   "cell_type": "code",
   "execution_count": 9,
   "metadata": {},
   "outputs": [
    {
     "name": "stdout",
     "output_type": "stream",
     "text": [
      "6039\r"
     ]
    }
   ],
   "source": [
    "### User User collabrative filtering with k = 20\n",
    "\n",
    "k = 20\n",
    "predicted_rating_matrix = np.zeros(train_rating_matrix_centered.shape)\n",
    "user_user_similarity = cosine_similarity(train_rating_matrix_centered)\n"
   ]
  },
  {
   "cell_type": "code",
   "execution_count": 10,
   "metadata": {},
   "outputs": [
    {
     "name": "stdout",
     "output_type": "stream",
     "text": [
      "6039\r"
     ]
    }
   ],
   "source": [
    "\n",
    "for user in range(train_rating_matrix_centered.shape[0]):\n",
    "    print(user, end = '\\r')\n",
    "    similarity = user_user_similarity[user] #similarity  array of a every user\n",
    "    \n",
    "    sorted_similarity = np.argsort(-similarity) #sorted in the descending order according to position\n",
    "    \n",
    "    for movie in range(train_rating_matrix_centered.shape[1]):\n",
    "        if test_rating_matrix[user][movie] != 0:  #check if the test matrix has a value in that position\n",
    "            cnt = 0\n",
    "            weighted_sum = 0\n",
    "            sum_of_weights = 0 \n",
    "            #select k most similar users\n",
    "            for similar_user in sorted_similarity:\n",
    "                if train_rating_matrix[similar_user][movie] != 0 and similarity[similar_user] > 0:\n",
    "                    cnt += 1\n",
    "                    weighted_sum += similarity[similar_user] * train_rating_matrix_centered[similar_user][movie]\n",
    "                    #add the weighter sum for each similar user\n",
    "                    sum_of_weights += similarity[similar_user]\n",
    "                    #add the similarity for every user\n",
    "                    if cnt == k:\n",
    "                        predicted_rating_matrix[user][movie] = weighted_sum/sum_of_weights #calculate the predicted ratings\n",
    "                        break\n",
    "            \n",
    "                \n",
    "        \n",
    "                "
   ]
  },
  {
   "cell_type": "code",
   "execution_count": 11,
   "metadata": {},
   "outputs": [
    {
     "name": "stdout",
     "output_type": "stream",
     "text": [
      "1.39933395789\n"
     ]
    }
   ],
   "source": [
    "error = 0\n",
    "cnt = 0\n",
    "for user in range(test_rating_matrix.shape[0]):\n",
    "    for movie in range(test_rating_matrix_centered.shape[1]):\n",
    "        ## Both conditions are necessary as both are required.\n",
    "        if test_rating_matrix[user][movie] != 0 and predicted_rating_matrix[user][movie] != 0:\n",
    "            error += ((predicted_rating_matrix[user][movie] - test_rating_matrix_centered[user][movie]) ** 2)\n",
    "            cnt += 1\n",
    "mse = np.sqrt(error/cnt)\n",
    "#print(error)\n",
    "print(mse)"
   ]
  },
  {
   "cell_type": "code",
   "execution_count": null,
   "metadata": {
    "collapsed": true
   },
   "outputs": [],
   "source": []
  },
  {
   "cell_type": "code",
   "execution_count": null,
   "metadata": {
    "collapsed": true
   },
   "outputs": [],
   "source": []
  }
 ],
 "metadata": {
  "kernelspec": {
   "display_name": "Python 3",
   "language": "python",
   "name": "python3"
  },
  "language_info": {
   "codemirror_mode": {
    "name": "ipython",
    "version": 3
   },
   "file_extension": ".py",
   "mimetype": "text/x-python",
   "name": "python",
   "nbconvert_exporter": "python",
   "pygments_lexer": "ipython3",
   "version": "3.6.3"
  }
 },
 "nbformat": 4,
 "nbformat_minor": 2
}
