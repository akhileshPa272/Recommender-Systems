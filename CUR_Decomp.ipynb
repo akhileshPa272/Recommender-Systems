{
 "cells": [
  {
   "cell_type": "code",
   "execution_count": 1,
   "metadata": {
    "collapsed": true
   },
   "outputs": [],
   "source": [
    "import pandas as pd\n",
    "import numpy as np\n",
    "import math\n",
    "import copy"
   ]
  },
  {
   "cell_type": "code",
   "execution_count": 2,
   "metadata": {
    "collapsed": true
   },
   "outputs": [],
   "source": [
    "rating_df_columns = [\"UserId\", \"MovieId\", \"Rating\", \"TimeStamp\"]\n",
    "rating_df = pd.read_table(\"data_set/ratings.dat\", sep=\"::\", engine = 'python', names=rating_df_columns)\n",
    "rating_df.drop(rating_df.index[1000000:1000209], inplace=True)"
   ]
  },
  {
   "cell_type": "code",
   "execution_count": 3,
   "metadata": {
    "collapsed": true
   },
   "outputs": [],
   "source": [
    "rating_matrix = np.asarray(rating_df.pivot(index = \"UserId\", columns = \"MovieId\", values = \"Rating\").fillna(0))"
   ]
  },
  {
   "cell_type": "code",
   "execution_count": 4,
   "metadata": {
    "collapsed": true
   },
   "outputs": [],
   "source": [
    "def svd(A):\n",
    "    transpose_flag = 0\n",
    "    if A.shape[0] > A.shape[1]:  \n",
    "        transpose_flag = 1\n",
    "        A = A.T\n",
    "    \n",
    "    #Convert matrix A into square matrix to be able to perform eigen value decomp\n",
    "    AAt = np.matmul(A, A.T)  #get the value of U(EE.T)U.T.\n",
    "    \n",
    "    AtA = np.matmul(A.T, A) #get the value of value of V(EE.T)V.T\n",
    "    \n",
    "    #getting the eigen values and vectors for both the square matrices\n",
    "    eval_AAt, evec_AAt = np.linalg.eig(AAt) #use eigen value decomposition to get the the eigen value and the eigen vector. In this case it is V\n",
    "    eval_AtA, evec_AtA = np.linalg.eig(AtA) # in this case it is U.\n",
    "    \n",
    "    #print(eval_AAt)\n",
    "    evec_AAt_transpose = evec_AAt.T #get the transpose of eigen vectors. In this case it is U.T\n",
    "    evec_AtA_transpose = evec_AtA.T #in this case it is V.T\n",
    "    \n",
    "    #ignore the vectors corresponding to negative eigen values\n",
    "    eval_AAt[eval_AAt < 10e-2] = 0\n",
    "    eval_AtA[eval_AtA < 10e-2] = 0\n",
    "    #print(eval_AAt)\n",
    "    #print(eval_AAt.shape)\n",
    "    \n",
    "    eval_AAt = np.sqrt(eval_AAt.real) #get the sqrt of all elements of the eigen value matrix as sigma^2 = lambda.\n",
    "    eval_AtA = np.sqrt(eval_AtA.real)\n",
    "    \n",
    "    evec_AAt = evec_AAt.real #take only the real values of eigen vectors\n",
    "    evec_AtA = evec_AtA.real\n",
    "    \n",
    "    argsort_eval_AAt = np.argsort(-eval_AAt) #Sort the values in the descending order but keep the value of their original positions\n",
    "    argsort_eval_AtA = np.argsort(-eval_AtA)\n",
    "    \n",
    "    U = np.zeros(evec_AAt.shape)\n",
    "    sigma1 = np.sort(eval_AAt)[::-1] #sort the eigen values in descending order.\n",
    "    \n",
    "    V = np.zeros(evec_AtA.shape)\n",
    "    sigma2 = (np.sort(eval_AtA))[::-1] #sort the eigen values in descending order.\n",
    "    \n",
    "    for i,j in enumerate(argsort_eval_AtA):\n",
    "        V[:,i] = evec_AtA[:,j]  #every element of the eigen value corresponds to a specific evector. Use that cor\n",
    "        \n",
    "    #sigma = np.diag(sigma1)\n",
    "    #print(sigma)\n",
    "    sigma = np.zeros(A.shape)\n",
    "    sigma[:, :A.shape[0]] = np.diag(sigma1) #set the eigen value matrix as a diagonal matrix\n",
    "       \n",
    "    for i in range(U.shape[1]):\n",
    "        if sigma1[i] != 0:\n",
    "            U[:,i] = (A.dot(V[:,i]))/sigma1[i]\n",
    "        else:\n",
    "            U[:,i] = 0\n",
    "        \n",
    "    if transpose_flag == 0:\n",
    "        return U, sigma, V.T\n",
    "    else:\n",
    "        return V, sigma.T, U.T"
   ]
  },
  {
   "cell_type": "code",
   "execution_count": 5,
   "metadata": {},
   "outputs": [
    {
     "name": "stdout",
     "output_type": "stream",
     "text": [
      "(6040, 3706)\n"
     ]
    }
   ],
   "source": [
    "A = rating_matrix\n",
    "print(A.shape)"
   ]
  },
  {
   "cell_type": "code",
   "execution_count": 6,
   "metadata": {
    "collapsed": true
   },
   "outputs": [],
   "source": [
    "#calculate the probabilities for column sampling\n",
    "prob = A.T.dot(A)\n",
    "column_len = np.asarray(np.diagonal(prob))\n",
    "denom = np.abs(column_len).sum(axis = 0)\n",
    "column_len = column_len/denom\n",
    "\n",
    "\n",
    "#calculate the probabilities for row sampling\n",
    "prob1 = A.dot(A.T)\n",
    "row_len = np.asarray(np.diagonal(prob1))\n",
    "denom = np.abs(row_len).sum(axis = 0)\n",
    "row_len= row_len/denom\n"
   ]
  },
  {
   "cell_type": "code",
   "execution_count": 7,
   "metadata": {},
   "outputs": [],
   "source": [
    "#here k is 884, therefore number of columns is 4times 884 and randomly chooose the column numbers\n",
    "columns = 3536\n",
    "rows = 3536\n",
    "np.random.seed(201)\n",
    "selected_columns = np.random.choice(range(column_len.shape[0]), size = (columns), replace = True, p = column_len)\n",
    "#print(selected_columns)\n",
    "selected_rows = np.random.choice(range(row_len.shape[0]), size = (rows), replace = True, p = row_len)"
   ]
  },
  {
   "cell_type": "code",
   "execution_count": 8,
   "metadata": {
    "collapsed": true
   },
   "outputs": [],
   "source": [
    "selected_rows.sort()\n",
    "selected_columns.sort()"
   ]
  },
  {
   "cell_type": "code",
   "execution_count": 9,
   "metadata": {
    "collapsed": true
   },
   "outputs": [],
   "source": [
    "C = np.zeros((A.shape[0], columns))\n",
    "R = np.zeros((rows, A.shape[1]))\n",
    "W = np.zeros((rows, columns))"
   ]
  },
  {
   "cell_type": "code",
   "execution_count": 10,
   "metadata": {
    "collapsed": true
   },
   "outputs": [],
   "source": [
    "#fill the C and R matrix according to the selected column values and row values\n",
    "for i,j in enumerate(selected_columns):\n",
    "    C[:,i] = A[:,j]/(np.sqrt(columns * column_len[j]))\n",
    "    \n",
    "for i,j in enumerate(selected_rows):\n",
    "    R[i,:] = A[j,:]/(np.sqrt(rows * row_len[j]))"
   ]
  },
  {
   "cell_type": "code",
   "execution_count": 11,
   "metadata": {
    "collapsed": true
   },
   "outputs": [],
   "source": [
    "#build the W matrix using the intersection of C and R\n",
    "for i,j in enumerate(selected_rows):\n",
    "    for k,l in enumerate(selected_columns):\n",
    "        W[i,k] = A[j,l]"
   ]
  },
  {
   "cell_type": "code",
   "execution_count": 12,
   "metadata": {
    "collapsed": true
   },
   "outputs": [],
   "source": [
    "X, Z, Y_transpose = svd(W)"
   ]
  },
  {
   "cell_type": "code",
   "execution_count": 13,
   "metadata": {
    "collapsed": true
   },
   "outputs": [],
   "source": [
    "W_pred = X.dot(Z.dot(Y_transpose))"
   ]
  },
  {
   "cell_type": "code",
   "execution_count": 14,
   "metadata": {},
   "outputs": [
    {
     "data": {
      "text/plain": [
       "3.6821383718475975e-12"
      ]
     },
     "execution_count": 14,
     "metadata": {},
     "output_type": "execute_result"
    }
   ],
   "source": [
    "np.sqrt(((W_pred - W) ** 2).sum()/ (W.shape[0] * W.shape[1]))"
   ]
  },
  {
   "cell_type": "code",
   "execution_count": 15,
   "metadata": {
    "collapsed": true
   },
   "outputs": [],
   "source": [
    "Z_plus = np.zeros(Z.shape)\n",
    "for i in range(Z.shape[0]):\n",
    "    for j in range(Z.shape[1]):\n",
    "        if Z[i][j] != 0:\n",
    "            Z_plus[i][j] = 1/Z[i][j]"
   ]
  },
  {
   "cell_type": "code",
   "execution_count": 16,
   "metadata": {
    "collapsed": true
   },
   "outputs": [],
   "source": [
    "U = (Y_transpose.T).dot((Z_plus.T).dot(X.T))"
   ]
  },
  {
   "cell_type": "code",
   "execution_count": 17,
   "metadata": {
    "collapsed": true
   },
   "outputs": [],
   "source": [
    "A_pred = C.dot(U.dot(R))"
   ]
  },
  {
   "cell_type": "code",
   "execution_count": 18,
   "metadata": {},
   "outputs": [
    {
     "name": "stdout",
     "output_type": "stream",
     "text": [
      "1.19827587395\n"
     ]
    }
   ],
   "source": [
    "rmse = np.sqrt( ((A_pred - A)**2).sum()/ (A.shape[0]*A.shape[1]) )\n",
    "print(rmse)"
   ]
  },
  {
   "cell_type": "code",
   "execution_count": null,
   "metadata": {
    "collapsed": true
   },
   "outputs": [],
   "source": []
  }
 ],
 "metadata": {
  "kernelspec": {
   "display_name": "Python 3",
   "language": "python",
   "name": "python3"
  },
  "language_info": {
   "codemirror_mode": {
    "name": "ipython",
    "version": 3
   },
   "file_extension": ".py",
   "mimetype": "text/x-python",
   "name": "python",
   "nbconvert_exporter": "python",
   "pygments_lexer": "ipython3",
   "version": "3.6.3"
  }
 },
 "nbformat": 4,
 "nbformat_minor": 2
}
