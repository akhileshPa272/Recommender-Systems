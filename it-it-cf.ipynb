{
 "cells": [
  {
   "cell_type": "code",
   "execution_count": null,
   "metadata": {
    "collapsed": true
   },
   "outputs": [],
   "source": [
    "ratings_matrix_centred_transpose = ratings_matrix_centred.T\n",
    "ratings_matrix_transpose = ratings_matrix.T\n",
    "\n",
    "item_item_similarity = cosine_similarity(ratings_matrix_centred_transpose)\n",
    "k = 20\n",
    "predicted_ratings_matrix_item = np.zeros(ratings_matrix_centred_transpose.shape)"
   ]
  },
  {
   "cell_type": "code",
   "execution_count": null,
   "metadata": {
    "collapsed": true
   },
   "outputs": [],
   "source": [
    "%%time\n",
    "\n",
    "for movie in range(ratings_matrix_centred_transpose.shape[0]):\n",
    "#     item_item_similarity = []\n",
    "#     mod = np.sqrt(np.dot(train_rating_matrix_centered_transpose[movie], train_rating_matrix_centered_transpose[movie]))\n",
    "#     print(movie, end = \"\\r\")\n",
    "#     for i in range(train_rating_matrix_centered_transpose.shape[0]):\n",
    "#         similarity = np.dot(train_rating_matrix_centered_transpose[movie], train_rating_matrix_centered_transpose[i])\n",
    "#         mod2 = np.sqrt(np.dot(train_rating_matrix_centered_transpose[i], train_rating_matrix_centered_transpose[i]))\n",
    "#         if mod2 == 0:\n",
    "#             similarity = 0\n",
    "#         else:\n",
    "#             similarity /= (mod * mod2) \n",
    "#         item_item_similarity.append(similarity)\n",
    "    \n",
    "#     similarity = np.asarray(item_item_similarity)\n",
    "    similarity = item_item_similarity[movie]\n",
    "    sorted_similarity = np.argsort(-similarity)\n",
    "    \n",
    "    for user in range(ratings_matrix_transpose.shape[1]):\n",
    "        if ratings_matrix_transpose[movie][user] != 0:\n",
    "            cnt = 0\n",
    "            weighted_sum = 0\n",
    "            sum_of_weights = 0\n",
    "            for similar_movie in sorted_similarity:\n",
    "                if ratings_matrix_transpose[similar_movie][user] != 0 and sorted_similarity[similar_movie] > 0:\n",
    "                    cnt += 1\n",
    "                    weighted_sum += sorted_similarity[similar_movie] * ratings_matrix_centred_transpose[similar_movie][user]\n",
    "                    sum_of_weights += sorted_similarity[similar_movie]\n",
    "                    predicted_ratings_matrix_item[movie][user] = weighted_sum/sum_of_weights\n",
    "                    if cnt == k:\n",
    "                        break\n",
    "            \n",
    "                \n",
    "                "
   ]
  },
  {
   "cell_type": "code",
   "execution_count": null,
   "metadata": {
    "collapsed": true
   },
   "outputs": [],
   "source": [
    "error = 0\n",
    "cnt = 0\n",
    "for movie in range(ratings_matrix_transpose.shape[0]):\n",
    "    for user in range(ratings_matrix_transpose.shape[1]):\n",
    "        if ratings_matrix[user][movie] != 0 and predicted_ratings_matrix_item[movie][user] != 0:\n",
    "            error += ((predicted_ratings_matrix_item[movie][user] - ratings_matrix_centred[user][movie]) ** 2)\n",
    "            cnt += 1\n",
    "            print(cnt, end = \"\\r\")\n",
    "mse = np.sqrt(error/cnt)\n",
    "print(error)\n",
    "print(mse)"
   ]
  }
 ],
 "metadata": {
  "kernelspec": {
   "display_name": "Python 3",
   "language": "python",
   "name": "python3"
  },
  "language_info": {
   "codemirror_mode": {
    "name": "ipython",
    "version": 3
   },
   "file_extension": ".py",
   "mimetype": "text/x-python",
   "name": "python",
   "nbconvert_exporter": "python",
   "pygments_lexer": "ipython3",
   "version": "3.6.3"
  }
 },
 "nbformat": 4,
 "nbformat_minor": 2
}
