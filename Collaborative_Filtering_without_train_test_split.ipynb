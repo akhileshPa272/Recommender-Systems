{
 "cells": [
  {
   "cell_type": "code",
   "execution_count": 1,
   "metadata": {},
   "outputs": [],
   "source": [
    "import pandas as pd\n",
    "import numpy as np\n",
    "import math\n",
    "import copy"
   ]
  },
  {
   "cell_type": "code",
   "execution_count": 2,
   "metadata": {
    "collapsed": true
   },
   "outputs": [],
   "source": [
    "def createMatrix():\n",
    "    ratings_df_columns = [\"UserId\", \"MovieId\", \"Rating\", \"Timestamp\"]\n",
    "    ratings_df = pd.read_table(\"data_set/ratings.dat\", sep=\"::\",engine= 'python', names=ratings_df_columns)\n",
    "    #print(ratings_df.head(10))\n",
    "    \n",
    "    ratings_df.drop(ratings_df.index[1000000:1000209], inplace = True)\n",
    "    \n",
    "    users = max(ratings_df[\"UserId\"])\n",
    "    movies = max(ratings_df[\"MovieId\"])\n",
    "    ratings_df = ratings_df.pivot(index = 'UserId', columns='MovieId', values='Rating').fillna(0)\n",
    "    \n",
    "    zero_mat = np.zeros(users);\n",
    "    \n",
    "    for i in range(1,movies + 1):\n",
    "        print(i, end = \"\\r\")\n",
    "        if i not in ratings_df.columns:\n",
    "            zero_df = pd.DataFrame(zero_mat,columns=[i],index=range(1, users + 1))\n",
    "            ratings_df = ratings_df.join(zero_df)\n",
    "    \n",
    "    ratings_matrix = np.asarray(ratings_df)\n",
    "    #print(ratings_matrix.shape)\n",
    "    #print(ratings_matrix)\n",
    "    return ratings_matrix\n",
    "    "
   ]
  },
  {
   "cell_type": "code",
   "execution_count": 3,
   "metadata": {},
   "outputs": [
    {
     "name": "stdout",
     "output_type": "stream",
     "text": [
      "3952\r"
     ]
    }
   ],
   "source": [
    "ratings_matrix = createMatrix()"
   ]
  },
  {
   "cell_type": "code",
   "execution_count": 4,
   "metadata": {
    "collapsed": true
   },
   "outputs": [],
   "source": [
    "def mean_centre(ratings_matrix):\n",
    "    rating_matrix_centred = np.zeros(ratings_matrix.shape)\n",
    "    for row in range(ratings_matrix.shape[0]):\n",
    "        ratings_sum = ratings_matrix[row].sum()\n",
    "        movies_watched = (ratings_matrix[row] > 0).sum()\n",
    "        mean = ratings_sum/movies_watched\n",
    "        for i in range(ratings_matrix.shape[1]):\n",
    "            if ratings_matrix[row][i] != 0:\n",
    "                rating_matrix_centred[row][i] = ratings_matrix[row][i] - mean\n",
    "    return rating_matrix_centred"
   ]
  },
  {
   "cell_type": "code",
   "execution_count": 5,
   "metadata": {
    "collapsed": true
   },
   "outputs": [],
   "source": [
    "ratings_matrix_centred = mean_centre(ratings_matrix)\n",
    "#print(ratings_matrix_centred)"
   ]
  },
  {
   "cell_type": "code",
   "execution_count": 6,
   "metadata": {
    "collapsed": true
   },
   "outputs": [],
   "source": [
    "#### Collabarative filtering\n",
    "#### Find k most similar users who have rated that movie.\n",
    "\n",
    "### Find similarity matrix based on row\n",
    "#The similarity matrix will be a user x user matrix\n",
    "def cosine_similarity(A):\n",
    "    similarity = np.zeros((A.shape[0], A.shape[0])) \n",
    "    for i in range(A.shape[0]):\n",
    "        mod1 = np.sqrt(np.dot(A[i],A[i])) #magnitude of the row vector\n",
    "        for j in range(i+1, A.shape[0]):\n",
    "            similarity_ij = np.dot(A[i], A[j]) #dot product of any pair of row vectors\n",
    "            mod2 = np.sqrt(np.dot(A[j], A[j])) #magnitude of the row vector\n",
    "            if mod2 == 0:\n",
    "                similarity[i][j] = similarity[j][i] = 0\n",
    "            else:\n",
    "                similarity_ij /= (mod1 * mod2) #cosine similarity\n",
    "                similarity[i][j] = similarity[j][i] = similarity_ij \n",
    "        print(i, end = \"\\r\")\n",
    "    return similarity"
   ]
  },
  {
   "cell_type": "code",
   "execution_count": 7,
   "metadata": {},
   "outputs": [
    {
     "name": "stdout",
     "output_type": "stream",
     "text": [
      "6039\r"
     ]
    }
   ],
   "source": [
    "### User User collabrative filtering with k = 20\n",
    "\n",
    "k = 20\n",
    "predicted_rating_matrix = np.zeros(ratings_matrix_centred.shape)\n",
    "user_user_similarity = cosine_similarity(ratings_matrix_centred)"
   ]
  },
  {
   "cell_type": "code",
   "execution_count": 8,
   "metadata": {},
   "outputs": [
    {
     "name": "stdout",
     "output_type": "stream",
     "text": [
      "6039\r"
     ]
    }
   ],
   "source": [
    "for user in range(ratings_matrix_centred.shape[0]):\n",
    "    print(user, end = '\\r')\n",
    "    similarity = user_user_similarity[user] #similarity  array of a every user\n",
    "    sorted_similarity = np.argsort(-similarity) #sorted in the descending order according to position\n",
    "    \n",
    "    for movie in range(ratings_matrix_centred.shape[1]):\n",
    "        if ratings_matrix[user][movie] != 0: #check if the test matrix has a value in that position\n",
    "            cnt = 0\n",
    "            weighted_sum = 0\n",
    "            sum_of_weights = 0  #select k most similar users\n",
    "            for similar_user in sorted_similarity:\n",
    "                if ratings_matrix[similar_user][movie] != 0 and similarity[similar_user] > 0:\n",
    "                    cnt += 1\n",
    "                    weighted_sum += similarity[similar_user] * ratings_matrix_centred[similar_user][movie]\n",
    "                    #add the weighte of sum for each similar user\n",
    "                    sum_of_weights += similarity[similar_user]\n",
    "                    #add the similarity for every user\n",
    "                    predicted_rating_matrix[user][movie] = weighted_sum/sum_of_weights\n",
    "                if cnt == k:\n",
    "                    break\n",
    "\n",
    "        \n",
    "               "
   ]
  },
  {
   "cell_type": "code",
   "execution_count": 9,
   "metadata": {},
   "outputs": [
    {
     "name": "stdout",
     "output_type": "stream",
     "text": [
      "595690.077212\n",
      "0.771870978206\n"
     ]
    }
   ],
   "source": [
    "error = 0\n",
    "cnt = 0\n",
    "for user in range(ratings_matrix.shape[0]):\n",
    "    for movie in range(ratings_matrix_centred.shape[1]):\n",
    "        ## Both conditions are necessary as both are required.\n",
    "        if ratings_matrix[user][movie] != 0 and predicted_rating_matrix[user][movie] != 0:\n",
    "            error += ((predicted_rating_matrix[user][movie] - ratings_matrix_centred[user][movie]) ** 2)\n",
    "            cnt += 1\n",
    "mse = np.sqrt(error/cnt)\n",
    "print(error)\n",
    "print(mse)"
   ]
  },
  {
   "cell_type": "code",
   "execution_count": null,
   "metadata": {
    "collapsed": true
   },
   "outputs": [],
   "source": []
  }
 ],
 "metadata": {
  "kernelspec": {
   "display_name": "Python 3",
   "language": "python",
   "name": "python3"
  },
  "language_info": {
   "codemirror_mode": {
    "name": "ipython",
    "version": 3
   },
   "file_extension": ".py",
   "mimetype": "text/x-python",
   "name": "python",
   "nbconvert_exporter": "python",
   "pygments_lexer": "ipython3",
   "version": "3.6.3"
  }
 },
 "nbformat": 4,
 "nbformat_minor": 2
}
