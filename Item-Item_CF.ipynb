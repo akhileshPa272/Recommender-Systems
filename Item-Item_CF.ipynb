{
 "cells": [
  {
   "cell_type": "code",
   "execution_count": null,
   "metadata": {
    "collapsed": true
   },
   "outputs": [],
   "source": [
    "### Item-Item collabarative filtering\n",
    "\n",
    "train_rating_matrix_centered_transpose = train_rating_matrix_centered.T\n",
    "train_rating_matrix_transpose = train_rating_matrix.T\n",
    "\n",
    "test_rating_matrix_centered_transpose = test_rating_matrix_centered.T\n",
    "test_rating_matrix_transpose = test_rating_matrix.T\n",
    "\n",
    "item_item_similarity = find_similarity(train_rating_matrix_centered_transpose)\n",
    "k = 20\n",
    "predicted_rating_matrix_item = np.zeros(train_rating_matrix_centered_transpose.shape)"
   ]
  },
  {
   "cell_type": "code",
   "execution_count": null,
   "metadata": {
    "collapsed": true
   },
   "outputs": [],
   "source": [
    "%%time\n",
    "\n",
    "for movie in range(train_rating_matrix_centered_transpose.shape[0]):\n",
    "    similarity = item_item_similarity[movie]\n",
    "    sorted_similarity = np.argsort(-similarity)\n",
    "    \n",
    "    for user in range(train_rating_matrix_transpose.shape[1]):\n",
    "        if test_rating_matrix_transpose[movie][user] != 0:\n",
    "            cnt = 0\n",
    "            weighted_sum = 0\n",
    "            sum_of_weights = 0\n",
    "            for similar_movie in sorted_similarity:\n",
    "                if train_rating_matrix_transpose[similar_movie][user] != 0 and similarity[similar_movie] > 0:\n",
    "                    cnt += 1\n",
    "                    weighted_sum += similarity[similar_movie] * train_rating_matrix_centered_transpose[similar_movie][user]\n",
    "                    sum_of_weights += similarity[similar_movie]\n",
    "                    predicted_rating_matrix_item[movie][user] = weighted_sum/sum_of_weights\n",
    "                    if cnt == k:\n",
    "                        break\n",
    "            \n",
    "                \n",
    "                "
   ]
  },
  {
   "cell_type": "code",
   "execution_count": null,
   "metadata": {
    "collapsed": true
   },
   "outputs": [],
   "source": [
    "error = 0\n",
    "cnt = 0\n",
    "for movie in range(test_rating_matrix_transpose.shape[0]):\n",
    "    for user in range(test_rating_matrix_transpose.shape[1]):\n",
    "        if test_rating_matrix[user][movie] != 0 and predicted_rating_matrix_item[movie][user] != 0:\n",
    "            error += ((predicted_rating_matrix_item[movie][user] - test_rating_matrix_centered[user][movie]) ** 2)\n",
    "            cnt += 1\n",
    "            print(cnt, end = \"\\r\")\n",
    "mse = np.sqrt(error/cnt)\n",
    "print(error)\n",
    "print(mse)"
   ]
  }
 ],
 "metadata": {
  "kernelspec": {
   "display_name": "Python 3",
   "language": "python",
   "name": "python3"
  },
  "language_info": {
   "codemirror_mode": {
    "name": "ipython",
    "version": 3
   },
   "file_extension": ".py",
   "mimetype": "text/x-python",
   "name": "python",
   "nbconvert_exporter": "python",
   "pygments_lexer": "ipython3",
   "version": "3.6.3"
  }
 },
 "nbformat": 4,
 "nbformat_minor": 2
}
