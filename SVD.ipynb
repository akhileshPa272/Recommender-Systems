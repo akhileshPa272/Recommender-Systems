{
 "cells": [
  {
   "cell_type": "code",
   "execution_count": 2,
   "metadata": {
    "collapsed": true
   },
   "outputs": [],
   "source": [
    "import numpy as np\n",
    "import pandas as pd\n",
    "import math\n",
    "import copy"
   ]
  },
  {
   "cell_type": "code",
   "execution_count": 3,
   "metadata": {
    "collapsed": true
   },
   "outputs": [],
   "source": [
    "rating_df_cols = [\"UserId\", \"MovieId\", \"Rating\", \"Timestamp\"]\n",
    "rating_df = pd.read_table(\"data_set/ratings.dat\", sep = \"::\", engine = \"python\", names = rating_df_cols)\n",
    "#print(rating_df.shape)\n",
    "#print(rating_df.head())"
   ]
  },
  {
   "cell_type": "code",
   "execution_count": 4,
   "metadata": {
    "collapsed": true
   },
   "outputs": [],
   "source": [
    "rating_df.drop(rating_df.index[1000000:1000209], inplace = True)\n",
    "#print(rating_df.shape)"
   ]
  },
  {
   "cell_type": "code",
   "execution_count": 5,
   "metadata": {
    "collapsed": true
   },
   "outputs": [],
   "source": [
    "rating_matrix = np.asarray(rating_df.pivot(index = \"UserId\", columns = \"MovieId\", values = \"Rating\").fillna(0))\n",
    "#print(rating_matrix.shape)"
   ]
  },
  {
   "cell_type": "code",
   "execution_count": 6,
   "metadata": {
    "collapsed": true
   },
   "outputs": [],
   "source": [
    "A = rating_matrix"
   ]
  },
  {
   "cell_type": "code",
   "execution_count": 7,
   "metadata": {
    "collapsed": true
   },
   "outputs": [],
   "source": [
    "def svd(A):\n",
    "    transpose_flag = 0\n",
    "    if A.shape[0] > A.shape[1]:  \n",
    "        transpose_flag = 1\n",
    "        A = A.T\n",
    "    \n",
    "    #Convert matrix A into square matrix to be able to perform eigen value decomp\n",
    "    AAt = np.matmul(A, A.T)  #get the value of U(EE.T)U.T.\n",
    "    \n",
    "    AtA = np.matmul(A.T, A) #get the value of value of V(EE.T)V.T\n",
    "    \n",
    "    #getting the eigen values and vectors for both the square matrices\n",
    "    eval_AAt, evec_AAt = np.linalg.eig(AAt) #use eigen value decomposition to get the the eigen value and the eigen vector. In this case it is V\n",
    "    eval_AtA, evec_AtA = np.linalg.eig(AtA) # in this case it is U.\n",
    "    \n",
    "    #print(eval_AAt)\n",
    "    evec_AAt_transpose = evec_AAt.T #get the transpose of eigen vectors. In this case it is U.T\n",
    "    evec_AtA_transpose = evec_AtA.T #in this case it is V.T\n",
    "    \n",
    "    #ignore the vectors corresponding to negative eigen values\n",
    "    eval_AAt[eval_AAt < 10e-2] = 0\n",
    "    eval_AtA[eval_AtA < 10e-2] = 0\n",
    "    #print(eval_AAt)\n",
    "    #print(eval_AAt.shape)\n",
    "    \n",
    "    eval_AAt = np.sqrt(eval_AAt.real) #get the sqrt of all elements of the eigen value matrix as sigma^2 = lambda.\n",
    "    eval_AtA = np.sqrt(eval_AtA.real)\n",
    "    \n",
    "    evec_AAt = evec_AAt.real #take only the real values of eigen vectors\n",
    "    evec_AtA = evec_AtA.real\n",
    "    \n",
    "    argsort_eval_AAt = np.argsort(-eval_AAt) #Sort the values in the descending order but keep the value of their original positions\n",
    "    argsort_eval_AtA = np.argsort(-eval_AtA)\n",
    "    \n",
    "    U = np.zeros(evec_AAt.shape)\n",
    "    sigma1 = np.sort(eval_AAt)[::-1] #sort the eigen values in descending order.\n",
    "    \n",
    "    V = np.zeros(evec_AtA.shape)\n",
    "    sigma2 = (np.sort(eval_AtA))[::-1] #sort the eigen values in descending order.\n",
    "    \n",
    "    for i,j in enumerate(argsort_eval_AtA):\n",
    "        V[:,i] = evec_AtA[:,j]  #every element of the eigen value corresponds to a specific evector. Use that cor\n",
    "        \n",
    "    #sigma = np.diag(sigma1)\n",
    "    #print(sigma)\n",
    "    sigma = np.zeros(A.shape)\n",
    "    sigma[:, :A.shape[0]] = np.diag(sigma1) #set the eigen value matrix as a diagonal matrix\n",
    "       \n",
    "    for i in range(U.shape[1]):\n",
    "        if sigma1[i] != 0:\n",
    "            U[:,i] = (A.dot(V[:,i]))/sigma1[i]\n",
    "        else:\n",
    "            U[:,i] = 0\n",
    "        \n",
    "    if transpose_flag == 0:\n",
    "        return U, sigma, V.T\n",
    "    else:\n",
    "        return V, sigma.T, U.T"
   ]
  },
  {
   "cell_type": "code",
   "execution_count": 8,
   "metadata": {
    "collapsed": true
   },
   "outputs": [],
   "source": [
    "#a = np.array([1,2,3,4])\n",
    "#d = np.zeros((4,4))\n",
    "#d[:, :4] = np.diag(a)\n",
    "# or simpler: d = np.diag([1,2,3,4])\n",
    "\n",
    "#print(d)"
   ]
  },
  {
   "cell_type": "code",
   "execution_count": 9,
   "metadata": {
    "collapsed": true
   },
   "outputs": [],
   "source": [
    "U, sigma, Vt = svd(A)\n",
    "A_pred  = U.dot(sigma.dot(Vt)) #get the predicted matrix"
   ]
  },
  {
   "cell_type": "code",
   "execution_count": 10,
   "metadata": {},
   "outputs": [
    {
     "name": "stdout",
     "output_type": "stream",
     "text": [
      "0.000216688356404\n"
     ]
    }
   ],
   "source": [
    "rmse = np.sqrt((((A_pred - A) ** 2).sum()/(A.shape[0]* A.shape[1])))\n",
    "print(rmse)"
   ]
  },
  {
   "cell_type": "code",
   "execution_count": 11,
   "metadata": {},
   "outputs": [
    {
     "name": "stdout",
     "output_type": "stream",
     "text": [
      "Number of components = 884\n",
      "12667930.1541\n",
      "12668401.6763\n",
      "Energy percent =  90.0033499551\n"
     ]
    }
   ],
   "source": [
    "total_energy = (sigma ** 2).sum()  #total energy is the total sum of the squares of the eigen values\n",
    "req_energy = 0.9 * total_energy #with dimensionality reduction we need to consider only 90% of the total energy\n",
    "\n",
    "current_energy = 0\n",
    "component = 0\n",
    "while current_energy < req_energy:\n",
    "    current_energy += sigma[component][component] ** 2\n",
    "    component += 1\n",
    "    \n",
    "components = component + 1\n",
    "print(\"Number of components =\", components) #number of eigen values considered\n",
    "print(req_energy)\n",
    "print(current_energy)\n",
    "print(\"Energy percent = \", current_energy/total_energy * 100)"
   ]
  },
  {
   "cell_type": "code",
   "execution_count": 13,
   "metadata": {
    "collapsed": true
   },
   "outputs": [],
   "source": [
    "U_reduced = U[:, :components] #consider the eigen vectors corresponding to the selected eigen values\n",
    "sigma_reduced = sigma[:components, :components]\n",
    "Vt_reduced = Vt[:components, :] #consider the eigen vectors corresponding to the selected eigen values"
   ]
  },
  {
   "cell_type": "code",
   "execution_count": 14,
   "metadata": {
    "collapsed": true
   },
   "outputs": [],
   "source": [
    "A_pred_red = U_reduced.dot(sigma_reduced.dot(Vt_reduced)) #get the new predicted matrix."
   ]
  },
  {
   "cell_type": "code",
   "execution_count": 15,
   "metadata": {},
   "outputs": [
    {
     "name": "stdout",
     "output_type": "stream",
     "text": [
      "0.250486587444\n"
     ]
    }
   ],
   "source": [
    "rmse_90 = np.sqrt(((A_pred_red - A)**2).sum() / (A.shape[0] * A.shape[1]))\n",
    "print(rmse_90)"
   ]
  },
  {
   "cell_type": "code",
   "execution_count": null,
   "metadata": {
    "collapsed": true
   },
   "outputs": [],
   "source": []
  }
 ],
 "metadata": {
  "kernelspec": {
   "display_name": "Python 3",
   "language": "python",
   "name": "python3"
  },
  "language_info": {
   "codemirror_mode": {
    "name": "ipython",
    "version": 3
   },
   "file_extension": ".py",
   "mimetype": "text/x-python",
   "name": "python",
   "nbconvert_exporter": "python",
   "pygments_lexer": "ipython3",
   "version": "3.6.3"
  }
 },
 "nbformat": 4,
 "nbformat_minor": 2
}
